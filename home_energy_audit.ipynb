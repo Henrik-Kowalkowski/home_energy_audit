{
 "cells": [
  {
   "cell_type": "markdown",
   "metadata": {},
   "source": [
    "# Home Energy Audit"
   ]
  },
  {
   "cell_type": "markdown",
   "metadata": {},
   "source": [
    "### Technology\n",
    "- [pydrive](https://towardsdatascience.com/how-to-manage-files-in-google-drive-with-python-d26471d91ecd)\n",
    "  - I want to protect the privacy of my electricity and thermostat data besides what I share here so I will access from google drive.\n",
    "  - [How to set up from pydrive doc](https://pythonhosted.org/PyDrive/quickstart.html) and [Setting up the API from Medium post](https://medium.com/@chingjunetao/simple-way-to-access-to-google-service-api-a22f4251bb52), you also need to make sure to enable yourself as a test user, no reason to publish the app.\n",
    "\n",
    "### Data sources\n",
    "- [NOAA weather data](https://www.ncei.noaa.gov/pub/data/uscrn/products/hourly02/) (for the Sandstone, MN weather station)\n",
    "- [Sense electricity data](https://help.sense.com/hc/en-us/articles/360011635634-Web-App-v4)\n",
    "- [Nest air temp/humidity/runtime data](https://takeout.google.com/settings/takeout)\n",
    "  - [More info on confusing nest thermostat headers](https://www.reddit.com/r/Nest/comments/9ui8m4/nest_archive_data_confused/)"
   ]
  },
  {
   "cell_type": "code",
   "execution_count": null,
   "metadata": {},
   "outputs": [],
   "source": [
    "# OS\n",
    "import sys, os, pathlib\n",
    "\n",
    "# Data manipulation\n",
    "import numpy as np\n",
    "import pandas as pd\n",
    "\n",
    "pd.options.mode.chained_assignment = None\n",
    "\n",
    "# String manipulation\n",
    "import re\n",
    "\n",
    "# Plotting\n",
    "import plotnine as p9\n",
    "from plotnine import ggplot, aes, geoms, facets, scales, labels, themes\n",
    "\n",
    "# Local directories\n",
    "home_dir = pathlib.Path(os.path.realpath(\"__file__\")).parents[0]\n"
   ]
  },
  {
   "cell_type": "code",
   "execution_count": null,
   "metadata": {},
   "outputs": [],
   "source": [
    "from helpers.gauth import make_drive_creds\n",
    "from helpers.gdrive import make_drive\n",
    "from helpers.data_prep import get_noaa_data, get_sense_data, get_nest_data\n"
   ]
  },
  {
   "cell_type": "code",
   "execution_count": null,
   "metadata": {},
   "outputs": [],
   "source": [
    "make_drive_creds(home_dir, \"home_energy_audit\")\n"
   ]
  },
  {
   "cell_type": "code",
   "execution_count": null,
   "metadata": {},
   "outputs": [],
   "source": [
    "drive = make_drive()\n"
   ]
  },
  {
   "cell_type": "markdown",
   "metadata": {},
   "source": [
    "### Sense energy monitor data"
   ]
  },
  {
   "cell_type": "code",
   "execution_count": null,
   "metadata": {},
   "outputs": [],
   "source": [
    "sense_data = get_sense_data(drive)\n"
   ]
  },
  {
   "cell_type": "code",
   "execution_count": null,
   "metadata": {},
   "outputs": [],
   "source": [
    "display(sense_data.shape, sense_data.dtypes)\n"
   ]
  },
  {
   "cell_type": "markdown",
   "metadata": {},
   "source": [
    "### Nest thermostat data"
   ]
  },
  {
   "cell_type": "code",
   "execution_count": null,
   "metadata": {},
   "outputs": [],
   "source": [
    "nest_data = get_nest_data(drive)\n"
   ]
  },
  {
   "cell_type": "code",
   "execution_count": null,
   "metadata": {},
   "outputs": [],
   "source": [
    "display(nest_data.shape, nest_data.dtypes)\n"
   ]
  },
  {
   "cell_type": "markdown",
   "metadata": {},
   "source": [
    "### NOAA weather data"
   ]
  },
  {
   "cell_type": "code",
   "execution_count": null,
   "metadata": {},
   "outputs": [],
   "source": [
    "noaa_data, noaa_readme = get_noaa_data(drive)\n"
   ]
  },
  {
   "cell_type": "code",
   "execution_count": null,
   "metadata": {},
   "outputs": [],
   "source": [
    "display(noaa_data.shape, noaa_data.dtypes)\n"
   ]
  },
  {
   "cell_type": "code",
   "execution_count": null,
   "metadata": {},
   "outputs": [],
   "source": [
    "print(\n",
    "    \"\\n\".join(noaa_readme.split(\"\\n\")[:31]),\n",
    "    \"\\nFile truncated by Henrik for readability...\",\n",
    ")\n"
   ]
  },
  {
   "cell_type": "markdown",
   "metadata": {},
   "source": [
    "### Join data for analysis"
   ]
  },
  {
   "cell_type": "code",
   "execution_count": null,
   "metadata": {},
   "outputs": [],
   "source": [
    "subset_sense_data = sense_data[[\"datetime\", \"name\", \"avg_wattage\", \"kwh\"]]\n",
    "subset_sense_data[\"name\"] = subset_sense_data.name.str.lower().str.replace(\" \", \"_\")\n",
    "subset_sense_data.loc[subset_sense_data.name.isna(), \"name\"] = \"unknown\"\n"
   ]
  },
  {
   "cell_type": "code",
   "execution_count": null,
   "metadata": {},
   "outputs": [],
   "source": [
    "pivoted_sense_data = pd.pivot(\n",
    "    subset_sense_data, index=\"datetime\", columns=\"name\", values=\"kwh\"\n",
    ")\n",
    "\n"
   ]
  },
  {
   "cell_type": "code",
   "execution_count": null,
   "metadata": {},
   "outputs": [],
   "source": [
    "nest_data[\"datetime\"] = pd.to_datetime(\n",
    "    nest_data.date + \" \" + nest_data.time, infer_datetime_format=True\n",
    ")\n",
    "\n"
   ]
  },
  {
   "cell_type": "code",
   "execution_count": null,
   "metadata": {},
   "outputs": [],
   "source": [
    "nest_data_hourly = (\n",
    "    nest_data.set_index(\"datetime\")\n",
    "    .resample(\"H\")[\"avg_temp\", \"avg_humidity\"]\n",
    "    .mean()\n",
    "    .reset_index()\n",
    ")\n",
    "\n"
   ]
  },
  {
   "cell_type": "code",
   "execution_count": null,
   "metadata": {},
   "outputs": [],
   "source": [
    "def convert_to_date_time(date, time):\n",
    "    \"\"\"Convert NOAA provided date and time integers to a datetime string.\n",
    "\n",
    "    Args:\n",
    "        date (str): A date of the form yearmonthday e.g. 20220202.\n",
    "        time (str): A time of the form hourminute e.g. 2300.\n",
    "\n",
    "    Returns:\n",
    "        _type_: _description_\n",
    "    \"\"\"\n",
    "    date = f\"{date[:4]}-{date[4:6]}-{date[6:]}\"\n",
    "    time = f\"{time[:2]}:{time[2:]}:00\"\n",
    "    return f\"{date} {time}\"\n"
   ]
  },
  {
   "cell_type": "code",
   "execution_count": null,
   "metadata": {},
   "outputs": [],
   "source": [
    "noaa_data.insert(\n",
    "    0,\n",
    "    \"datetime\",\n",
    "    pd.to_datetime(\n",
    "        noaa_data.apply(\n",
    "            lambda x: convert_to_date_time(x[\"lst_date\"], x[\"lst_time\"]), axis=1\n",
    "        ),\n",
    "        infer_datetime_format=True,\n",
    "    ),\n",
    ")\n",
    "\n"
   ]
  },
  {
   "cell_type": "code",
   "execution_count": null,
   "metadata": {},
   "outputs": [],
   "source": [
    "noaa_data_subset = noaa_data[[\"datetime\", \"t_hr_avg\", \"rh_hr_avg\", \"solarad\"]]\n"
   ]
  },
  {
   "cell_type": "code",
   "execution_count": null,
   "metadata": {},
   "outputs": [],
   "source": [
    "noaa_data_subset = noaa_data_subset[\n",
    "    (noaa_data_subset.datetime >= \"2022-02-1\")\n",
    "    & (noaa_data_subset.datetime < \"2022-07-01\")\n",
    "]\n",
    "\n"
   ]
  },
  {
   "cell_type": "code",
   "execution_count": null,
   "metadata": {},
   "outputs": [],
   "source": [
    "house_data = noaa_data_subset.merge(\n",
    "    pivoted_sense_data, how=\"left\", on=\"datetime\"\n",
    ").merge(nest_data_hourly, how=\"left\", on=\"datetime\")\n",
    "\n"
   ]
  },
  {
   "cell_type": "code",
   "execution_count": null,
   "metadata": {},
   "outputs": [],
   "source": [
    "house_data\n"
   ]
  },
  {
   "cell_type": "code",
   "execution_count": null,
   "metadata": {},
   "outputs": [],
   "source": [
    "daily_fridge_kwh = (\n",
    "    house_data.set_index(\"datetime\").resample(\"D\").fridge.mean().reset_index()\n",
    ")\n"
   ]
  },
  {
   "cell_type": "code",
   "execution_count": null,
   "metadata": {},
   "outputs": [],
   "source": [
    "p9.options.figure_size = (5, 3)\n",
    "p9.options.dpi = 200\n",
    "ggplot(\n",
    "    daily_fridge_kwh, aes(x=\"datetime\", y=\"fridge\")\n",
    ") + geoms.geom_point() + geoms.geom_smooth(method=\"lm\", color=\"blue\") + themes.theme(\n",
    "    axis_text_x=themes.element_text(rotation=45, hjust=1)\n",
    ") + labels.ggtitle(\n",
    "    \"Fridge KWH usage over time\"\n",
    ") + labels.ylab(\n",
    "    \"Fridge Daily KWH\"\n",
    ") + labels.xlab(\n",
    "    \"Day\"\n",
    ")\n"
   ]
  }
 ],
 "metadata": {
  "kernelspec": {
   "display_name": "Python 3.9.12 ('envDS')",
   "language": "python",
   "name": "python3"
  },
  "language_info": {
   "codemirror_mode": {
    "name": "ipython",
    "version": 3
   },
   "file_extension": ".py",
   "mimetype": "text/x-python",
   "name": "python",
   "nbconvert_exporter": "python",
   "pygments_lexer": "ipython3",
   "version": "3.9.12"
  },
  "orig_nbformat": 4,
  "vscode": {
   "interpreter": {
    "hash": "6557f6faeb36ff1eb913be5add2f5fd501a06da646a1c91bb6a2a0a1ba68ea1e"
   }
  }
 },
 "nbformat": 4,
 "nbformat_minor": 2
}
