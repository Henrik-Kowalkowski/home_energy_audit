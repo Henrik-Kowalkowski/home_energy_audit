{
 "cells": [
  {
   "cell_type": "markdown",
   "metadata": {},
   "source": [
    "# Home Energy Audit"
   ]
  },
  {
   "cell_type": "markdown",
   "metadata": {},
   "source": [
    "### Technology\n",
    "- [pydrive](https://towardsdatascience.com/how-to-manage-files-in-google-drive-with-python-d26471d91ecd)\n",
    "  - I want to protect the privacy of my electricity and thermostat data besides what I share here so I will access from google drive.\n",
    "  - [How to set up from pydrive doc](https://pythonhosted.org/PyDrive/quickstart.html) and [Setting up the API from Medium post](https://medium.com/@chingjunetao/simple-way-to-access-to-google-service-api-a22f4251bb52), you also need to make sure to enable yourself as a test user, no reason to publish the app.\n",
    "\n",
    "### Data sources\n",
    "- [NOAA weather data](https://www.ncei.noaa.gov/pub/data/uscrn/products/hourly02/) (for the Sandstone, MN weather station)\n",
    "- [Sense electricity data](https://help.sense.com/hc/en-us/articles/360011635634-Web-App-v4)\n",
    "- [Nest air temp/humidity/runtime data](https://takeout.google.com/settings/takeout)\n",
    "  - [More info on confusing nest thermostat headers](https://www.reddit.com/r/Nest/comments/9ui8m4/nest_archive_data_confused/)"
   ]
  },
  {
   "cell_type": "code",
   "execution_count": 1,
   "metadata": {},
   "outputs": [],
   "source": [
    "# OS\n",
    "import sys, os, pathlib\n",
    "\n",
    "# Data manipulation\n",
    "import numpy as np\n",
    "import pandas as pd\n",
    "\n",
    "pd.options.mode.chained_assignment = None\n",
    "\n",
    "# String manipulation\n",
    "import re\n",
    "\n",
    "# Plotting\n",
    "import plotnine as p9\n",
    "from plotnine import ggplot, aes, geoms, facets, scales, labels, themes\n",
    "\n",
    "# Local directories\n",
    "home_dir = pathlib.Path(os.path.realpath(\"__file__\")).parents[0]\n"
   ]
  },
  {
   "cell_type": "code",
   "execution_count": 2,
   "metadata": {},
   "outputs": [],
   "source": [
    "from helpers.gauth import make_drive_creds\n",
    "from helpers.gdrive import make_drive\n",
    "from helpers.data_prep import get_noaa_data, get_sense_data, get_nest_data\n"
   ]
  },
  {
   "cell_type": "code",
   "execution_count": 3,
   "metadata": {},
   "outputs": [
    {
     "name": "stdout",
     "output_type": "stream",
     "text": [
      "Credentials saved to home_energy_audit as my_creds.json\n"
     ]
    }
   ],
   "source": [
    "make_drive_creds(home_dir, \"home_energy_audit\")\n"
   ]
  },
  {
   "cell_type": "code",
   "execution_count": 4,
   "metadata": {},
   "outputs": [],
   "source": [
    "drive = make_drive(home_dir)\n"
   ]
  },
  {
   "cell_type": "markdown",
   "metadata": {},
   "source": [
    "### Sense energy monitor data"
   ]
  },
  {
   "cell_type": "code",
   "execution_count": 5,
   "metadata": {},
   "outputs": [],
   "source": [
    "sense_data = get_sense_data(drive)\n"
   ]
  },
  {
   "cell_type": "code",
   "execution_count": 6,
   "metadata": {},
   "outputs": [
    {
     "data": {
      "text/plain": [
       "(15304, 9)"
      ]
     },
     "metadata": {},
     "output_type": "display_data"
    },
    {
     "data": {
      "text/plain": [
       "sense_datetime           datetime64[ns]\n",
       "sense_device_id                  object\n",
       "sense_name                       object\n",
       "sense_device_type                object\n",
       "sense_device_make                object\n",
       "sense_device_model              float64\n",
       "sense_device_location           float64\n",
       "sense_avg_wattage               float64\n",
       "sense_kwh                       float64\n",
       "dtype: object"
      ]
     },
     "metadata": {},
     "output_type": "display_data"
    }
   ],
   "source": [
    "display(sense_data.shape, sense_data.dtypes)\n"
   ]
  },
  {
   "cell_type": "markdown",
   "metadata": {},
   "source": [
    "### Nest thermostat data"
   ]
  },
  {
   "cell_type": "code",
   "execution_count": 7,
   "metadata": {},
   "outputs": [],
   "source": [
    "nest_sensor_data, nest_summary_data = get_nest_data(drive)\n"
   ]
  },
  {
   "cell_type": "code",
   "execution_count": 8,
   "metadata": {},
   "outputs": [
    {
     "data": {
      "text/plain": [
       "(18061, 20)"
      ]
     },
     "metadata": {},
     "output_type": "display_data"
    },
    {
     "data": {
      "text/plain": [
       "nest_date             object\n",
       "nest_time             object\n",
       "nest_avg_temp        float64\n",
       "nest_avg_humidity    float64\n",
       "nest_max_pir         float64\n",
       "nest_max_nearpir     float64\n",
       "nest_min_ch1         float64\n",
       "nest_max_ch1         float64\n",
       "nest_min_ch2         float64\n",
       "nest_max_ch2         float64\n",
       "nest_min_als         float64\n",
       "nest_max_als         float64\n",
       "nest_min_tp0         float64\n",
       "nest_max_tp0         float64\n",
       "nest_min_tp1         float64\n",
       "nest_max_tp1         float64\n",
       "nest_min_tp2         float64\n",
       "nest_max_tp2         float64\n",
       "nest_min_tp3         float64\n",
       "nest_max_tp3         float64\n",
       "dtype: object"
      ]
     },
     "metadata": {},
     "output_type": "display_data"
    },
    {
     "data": {
      "text/plain": [
       "(2148, 10)"
      ]
     },
     "metadata": {},
     "output_type": "display_data"
    },
    {
     "data": {
      "text/plain": [
       "nest_start_ts                   datetime64[ns, US/Central]\n",
       "nest_duration                                       object\n",
       "nest_event_type                                     object\n",
       "nest_set_point_type                                 object\n",
       "nest_set_point_schedule_type                        object\n",
       "nest_heating_target                                float64\n",
       "nest_cooling_target                                float64\n",
       "nest_touched_ts                 datetime64[ns, US/Central]\n",
       "nest_touched_by                                     object\n",
       "nest_touched_where                                  object\n",
       "dtype: object"
      ]
     },
     "metadata": {},
     "output_type": "display_data"
    }
   ],
   "source": [
    "display(nest_sensor_data.shape, nest_sensor_data.dtypes)\n",
    "display(nest_summary_data.shape, nest_summary_data.dtypes)\n"
   ]
  },
  {
   "cell_type": "markdown",
   "metadata": {},
   "source": [
    "### NOAA weather data"
   ]
  },
  {
   "cell_type": "code",
   "execution_count": 44,
   "metadata": {},
   "outputs": [],
   "source": [
    "noaa_data, noaa_readme = get_noaa_data(drive)\n"
   ]
  },
  {
   "cell_type": "code",
   "execution_count": 45,
   "metadata": {},
   "outputs": [
    {
     "data": {
      "text/plain": [
       "(4551, 38)"
      ]
     },
     "metadata": {},
     "output_type": "display_data"
    },
    {
     "data": {
      "text/plain": [
       "noaa_wbanno                object\n",
       "noaa_utc_date              object\n",
       "noaa_utc_time              object\n",
       "noaa_lst_date              object\n",
       "noaa_lst_time              object\n",
       "noaa_crx_vn                object\n",
       "noaa_longitude             object\n",
       "noaa_latitude              object\n",
       "noaa_t_calc               float64\n",
       "noaa_t_hr_avg             float64\n",
       "noaa_t_max                float64\n",
       "noaa_t_min                float64\n",
       "noaa_p_calc               float64\n",
       "noaa_solarad                int64\n",
       "noaa_solarad_flag           int64\n",
       "noaa_solarad_max            int64\n",
       "noaa_solarad_max_flag       int64\n",
       "noaa_solarad_min            int64\n",
       "noaa_solarad_min_flag       int64\n",
       "noaa_sur_temp_type         object\n",
       "noaa_sur_temp             float64\n",
       "noaa_sur_temp_flag          int64\n",
       "noaa_sur_temp_max         float64\n",
       "noaa_sur_temp_max_flag      int64\n",
       "noaa_sur_temp_min         float64\n",
       "noaa_sur_temp_min_flag      int64\n",
       "noaa_rh_hr_avg              int64\n",
       "noaa_rh_hr_avg_flag         int64\n",
       "noaa_soil_moisture_5      float64\n",
       "noaa_soil_moisture_10     float64\n",
       "noaa_soil_moisture_20     float64\n",
       "noaa_soil_moisture_50     float64\n",
       "noaa_soil_moisture_100    float64\n",
       "noaa_soil_temp_5          float64\n",
       "noaa_soil_temp_10         float64\n",
       "noaa_soil_temp_20         float64\n",
       "noaa_soil_temp_50         float64\n",
       "noaa_soil_temp_100        float64\n",
       "dtype: object"
      ]
     },
     "metadata": {},
     "output_type": "display_data"
    }
   ],
   "source": [
    "display(noaa_data.shape, noaa_data.dtypes)\n"
   ]
  },
  {
   "cell_type": "code",
   "execution_count": 46,
   "metadata": {},
   "outputs": [
    {
     "name": "stdout",
     "output_type": "stream",
     "text": [
      "                          USCRN/USRCRN HOURLY FILES\n",
      "\n",
      "                            UPDATED: 2017-07-06\n",
      "                              \n",
      "README CONTENTS:                          \n",
      "    1. GENERAL INFORMATION \n",
      "    2. DATA VERSION / STATUS UPDATES\n",
      "    3. DIRECTORY ORGANIZATION\n",
      "    4. FILE AND FILENAME FORMATS\n",
      "        A. YEARLY\n",
      "        B. SNAPSHOTS\n",
      "        C. UPDATES\n",
      "    5. DATA FIELDS / FORMATS / IMPORTANT NOTES\n",
      "\n",
      "********************************************************************************\n",
      "\n",
      "1. GENERAL INFORMATION\n",
      "\n",
      "NCDC provides access to hourly data from the U.S. Climate Reference Network / \n",
      "U.S. Regional Climate Reference Network (USCRN/USRCRN) via anonymous ftp at:\n",
      "\n",
      "        ftp://ftp.ncdc.noaa.gov/pub/data/uscrn/products/hourly02\n",
      "        \n",
      "and an identical web interface at:\n",
      "\n",
      "        http://www1.ncdc.noaa.gov/pub/data/uscrn/products/hourly02\n",
      "        \n",
      "Before using these data, be sure to review this document carefully, as well\n",
      "as any announcements within the main (hourly02) directory. \n",
      "\n",
      "******************************************************************************** \n",
      "File truncated by Henrik for readability...\n"
     ]
    }
   ],
   "source": [
    "print(\n",
    "    \"\\n\".join(noaa_readme.split(\"\\n\")[:31]),\n",
    "    \"\\nFile truncated by Henrik for readability...\",\n",
    ")\n"
   ]
  },
  {
   "cell_type": "markdown",
   "metadata": {},
   "source": [
    "### Join data for analysis"
   ]
  },
  {
   "cell_type": "code",
   "execution_count": 47,
   "metadata": {},
   "outputs": [],
   "source": [
    "subset_sense_data = sense_data[\n",
    "    [\"sense_datetime\", \"sense_name\", \"sense_avg_wattage\", \"sense_kwh\"]\n",
    "]\n",
    "subset_sense_data[\"sense_name\"] = subset_sense_data.sense_name.str.lower().str.replace(\n",
    "    \" \", \"_\"\n",
    ")\n",
    "subset_sense_data[\"sense_name\"] = subset_sense_data.sense_name.apply(lambda x: f\"sense_{x}\")\n",
    "subset_sense_data.loc[subset_sense_data.sense_name.isna(), \"sense_name\"] = \"sense_unknown\"\n",
    "subset_sense_data[\"datetime\"] = subset_sense_data.sense_datetime\n"
   ]
  },
  {
   "cell_type": "code",
   "execution_count": 48,
   "metadata": {},
   "outputs": [],
   "source": [
    "pivoted_sense_data = pd.pivot(\n",
    "    subset_sense_data.drop(columns=[\"sense_datetime\"]),\n",
    "    index=\"datetime\",\n",
    "    columns=\"sense_name\",\n",
    "    values=\"sense_kwh\",\n",
    ")\n",
    "\n"
   ]
  },
  {
   "cell_type": "code",
   "execution_count": 49,
   "metadata": {},
   "outputs": [],
   "source": [
    "nest_sensor_data[\"datetime\"] = pd.to_datetime(\n",
    "    nest_sensor_data.nest_date + \" \" + nest_sensor_data.nest_time,\n",
    "    infer_datetime_format=True,\n",
    ")\n",
    "\n"
   ]
  },
  {
   "cell_type": "code",
   "execution_count": 50,
   "metadata": {},
   "outputs": [],
   "source": [
    "nest_data_hourly = (\n",
    "    nest_sensor_data.set_index(\"datetime\")\n",
    "    .resample(\"H\")[\"nest_avg_temp\", \"nest_avg_humidity\"]\n",
    "    .mean()\n",
    "    .reset_index()\n",
    ")\n",
    "\n"
   ]
  },
  {
   "cell_type": "code",
   "execution_count": 51,
   "metadata": {},
   "outputs": [],
   "source": [
    "def convert_to_date_time(date, time):\n",
    "    \"\"\"Convert NOAA provided date and time integers to a datetime string.\n",
    "\n",
    "    Args:\n",
    "        date (str): A date of the form yearmonthday e.g. 20220202.\n",
    "        time (str): A time of the form hourminute e.g. 2300.\n",
    "\n",
    "    Returns:\n",
    "        _type_: _description_\n",
    "    \"\"\"\n",
    "    date = f\"{date[:4]}-{date[4:6]}-{date[6:]}\"\n",
    "    time = f\"{time[:2]}:{time[2:]}:00\"\n",
    "    return f\"{date} {time}\"\n"
   ]
  },
  {
   "cell_type": "code",
   "execution_count": 52,
   "metadata": {},
   "outputs": [],
   "source": [
    "noaa_data.insert(\n",
    "    0,\n",
    "    \"datetime\",\n",
    "    pd.to_datetime(\n",
    "        noaa_data.apply(\n",
    "            lambda x: convert_to_date_time(x[\"noaa_lst_date\"], x[\"noaa_lst_time\"]),\n",
    "            axis=1,\n",
    "        ),\n",
    "        infer_datetime_format=True,\n",
    "    ),\n",
    ")\n",
    "\n"
   ]
  },
  {
   "cell_type": "code",
   "execution_count": 53,
   "metadata": {},
   "outputs": [],
   "source": [
    "noaa_data_subset = noaa_data[\n",
    "    [\"datetime\", \"noaa_t_hr_avg\", \"noaa_rh_hr_avg\", \"noaa_solarad\"]\n",
    "]\n"
   ]
  },
  {
   "cell_type": "code",
   "execution_count": 54,
   "metadata": {},
   "outputs": [],
   "source": [
    "noaa_data_subset = noaa_data_subset[\n",
    "    (noaa_data_subset.datetime >= \"2022-02-1\")\n",
    "    & (noaa_data_subset.datetime < \"2022-07-01\")\n",
    "]\n",
    "\n"
   ]
  },
  {
   "cell_type": "code",
   "execution_count": 55,
   "metadata": {},
   "outputs": [],
   "source": [
    "house_data = noaa_data_subset.merge(\n",
    "    pivoted_sense_data, how=\"left\", on=\"datetime\"\n",
    ").merge(nest_data_hourly, how=\"left\", on=\"datetime\")\n",
    "\n"
   ]
  },
  {
   "cell_type": "markdown",
   "metadata": {},
   "source": [
    "### Explore example data point"
   ]
  },
  {
   "cell_type": "code",
   "execution_count": 56,
   "metadata": {},
   "outputs": [],
   "source": [
    "daily_fridge_kwh = (\n",
    "    house_data.set_index(\"datetime\").resample(\"D\").sense_fridge.mean().reset_index()\n",
    ")\n"
   ]
  },
  {
   "cell_type": "code",
   "execution_count": 57,
   "metadata": {},
   "outputs": [
    {
     "data": {
      "image/png": "[encoded data removed]",
      "text/plain": [
       "<Figure size 1000x600 with 1 Axes>"
      ]
     },
     "metadata": {},
     "output_type": "display_data"
    },
    {
     "data": {
      "text/plain": [
       "<ggplot: (125544976062)>"
      ]
     },
     "execution_count": 57,
     "metadata": {},
     "output_type": "execute_result"
    }
   ],
   "source": [
    "p9.options.figure_size = (5, 3)\n",
    "p9.options.dpi = 200\n",
    "ggplot(\n",
    "    daily_fridge_kwh, aes(x=\"datetime\", y=\"sense_fridge\")\n",
    ") + geoms.geom_point() + geoms.geom_smooth(method=\"lm\", color=\"blue\") + themes.theme(\n",
    "    axis_text_x=themes.element_text(rotation=45, hjust=1)\n",
    ") + labels.ggtitle(\n",
    "    \"Fridge KWH usage over time\"\n",
    ") + labels.ylab(\n",
    "    \"Fridge Daily KWH\"\n",
    ") + labels.xlab(\n",
    "    \"Day\"\n",
    ")\n"
   ]
  },
  {
   "cell_type": "markdown",
   "metadata": {},
   "source": [
    "### Data quality EDA"
   ]
  },
  {
   "cell_type": "code",
   "execution_count": 58,
   "metadata": {},
   "outputs": [
    {
     "data": {
      "text/plain": [
       "datetime                       0\n",
       "noaa_t_hr_avg                 69\n",
       "noaa_rh_hr_avg              2993\n",
       "noaa_solarad                  67\n",
       "sense_always_on                1\n",
       "sense_coffee_maker          3575\n",
       "sense_dehumidifier          3302\n",
       "sense_dryer                 3517\n",
       "sense_electric_blanket      3586\n",
       "sense_electric_fireplace    3553\n",
       "sense_fridge                   8\n",
       "sense_instant_pot           3548\n",
       "sense_kettle                3538\n",
       "sense_microwave             3182\n",
       "sense_nan                   3543\n",
       "sense_pump                  2695\n",
       "sense_total_usage              1\n",
       "sense_washer                3516\n",
       "nest_avg_temp                  0\n",
       "nest_avg_humidity              0\n",
       "dtype: int64"
      ]
     },
     "execution_count": 58,
     "metadata": {},
     "output_type": "execute_result"
    }
   ],
   "source": [
    "house_data = house_data.replace(-9999, np.nan).replace(-99999, np.nan)\n",
    "house_data.isna().sum()\n"
   ]
  },
  {
   "cell_type": "code",
   "execution_count": 60,
   "metadata": {},
   "outputs": [
    {
     "data": {
      "text/html": [
       "<div>\n",
       "<style scoped>\n",
       "    .dataframe tbody tr th:only-of-type {\n",
       "        vertical-align: middle;\n",
       "    }\n",
       "\n",
       "    .dataframe tbody tr th {\n",
       "        vertical-align: top;\n",
       "    }\n",
       "\n",
       "    .dataframe thead th {\n",
       "        text-align: right;\n",
       "    }\n",
       "</style>\n",
       "<table border=\"1\" class=\"dataframe\">\n",
       "  <thead>\n",
       "    <tr style=\"text-align: right;\">\n",
       "      <th></th>\n",
       "      <th>noaa_solarad</th>\n",
       "      <th>noaa_t_hr_avg</th>\n",
       "      <th>noaa_rh_hr_avg</th>\n",
       "      <th>sense_total_usage</th>\n",
       "      <th>nest_avg_temp</th>\n",
       "      <th>nest_avg_humidity</th>\n",
       "    </tr>\n",
       "  </thead>\n",
       "  <tbody>\n",
       "    <tr>\n",
       "      <th>count</th>\n",
       "      <td>3533.000000</td>\n",
       "      <td>3531.000000</td>\n",
       "      <td>607.000000</td>\n",
       "      <td>3599.000000</td>\n",
       "      <td>3600.000000</td>\n",
       "      <td>3600.000000</td>\n",
       "    </tr>\n",
       "    <tr>\n",
       "      <th>mean</th>\n",
       "      <td>169.468723</td>\n",
       "      <td>3.991249</td>\n",
       "      <td>65.477759</td>\n",
       "      <td>0.429986</td>\n",
       "      <td>20.603033</td>\n",
       "      <td>37.365944</td>\n",
       "    </tr>\n",
       "    <tr>\n",
       "      <th>std</th>\n",
       "      <td>246.873604</td>\n",
       "      <td>12.774134</td>\n",
       "      <td>19.747893</td>\n",
       "      <td>0.409847</td>\n",
       "      <td>2.454380</td>\n",
       "      <td>8.112938</td>\n",
       "    </tr>\n",
       "    <tr>\n",
       "      <th>min</th>\n",
       "      <td>0.000000</td>\n",
       "      <td>-31.400000</td>\n",
       "      <td>19.000000</td>\n",
       "      <td>0.093000</td>\n",
       "      <td>15.303333</td>\n",
       "      <td>20.300000</td>\n",
       "    </tr>\n",
       "    <tr>\n",
       "      <th>25%</th>\n",
       "      <td>0.000000</td>\n",
       "      <td>-4.000000</td>\n",
       "      <td>50.000000</td>\n",
       "      <td>0.226000</td>\n",
       "      <td>19.531875</td>\n",
       "      <td>31.691875</td>\n",
       "    </tr>\n",
       "    <tr>\n",
       "      <th>50%</th>\n",
       "      <td>9.000000</td>\n",
       "      <td>3.900000</td>\n",
       "      <td>66.000000</td>\n",
       "      <td>0.338000</td>\n",
       "      <td>20.287500</td>\n",
       "      <td>36.856250</td>\n",
       "    </tr>\n",
       "    <tr>\n",
       "      <th>75%</th>\n",
       "      <td>275.000000</td>\n",
       "      <td>14.200000</td>\n",
       "      <td>83.000000</td>\n",
       "      <td>0.445500</td>\n",
       "      <td>21.615417</td>\n",
       "      <td>42.911250</td>\n",
       "    </tr>\n",
       "    <tr>\n",
       "      <th>max</th>\n",
       "      <td>945.000000</td>\n",
       "      <td>34.200000</td>\n",
       "      <td>98.000000</td>\n",
       "      <td>4.774000</td>\n",
       "      <td>28.460000</td>\n",
       "      <td>65.400000</td>\n",
       "    </tr>\n",
       "  </tbody>\n",
       "</table>\n",
       "</div>"
      ],
      "text/plain": [
       "       noaa_solarad  noaa_t_hr_avg  noaa_rh_hr_avg  sense_total_usage  \\\n",
       "count   3533.000000    3531.000000      607.000000        3599.000000   \n",
       "mean     169.468723       3.991249       65.477759           0.429986   \n",
       "std      246.873604      12.774134       19.747893           0.409847   \n",
       "min        0.000000     -31.400000       19.000000           0.093000   \n",
       "25%        0.000000      -4.000000       50.000000           0.226000   \n",
       "50%        9.000000       3.900000       66.000000           0.338000   \n",
       "75%      275.000000      14.200000       83.000000           0.445500   \n",
       "max      945.000000      34.200000       98.000000           4.774000   \n",
       "\n",
       "       nest_avg_temp  nest_avg_humidity  \n",
       "count    3600.000000        3600.000000  \n",
       "mean       20.603033          37.365944  \n",
       "std         2.454380           8.112938  \n",
       "min        15.303333          20.300000  \n",
       "25%        19.531875          31.691875  \n",
       "50%        20.287500          36.856250  \n",
       "75%        21.615417          42.911250  \n",
       "max        28.460000          65.400000  "
      ]
     },
     "execution_count": 60,
     "metadata": {},
     "output_type": "execute_result"
    }
   ],
   "source": [
    "house_data[\n",
    "    [\"noaa_solarad\", \"noaa_t_hr_avg\", \"noaa_rh_hr_avg\", \"sense_total_usage\", \"nest_avg_temp\", \"nest_avg_humidity\"]\n",
    "].describe()\n",
    "\n"
   ]
  },
  {
   "cell_type": "markdown",
   "metadata": {},
   "source": [
    "### Prepare data for modeling"
   ]
  },
  {
   "cell_type": "code",
   "execution_count": 61,
   "metadata": {},
   "outputs": [],
   "source": [
    "house_data[\"month\"] = house_data.datetime.dt.month_name()\n",
    "house_data[\"day_of_week\"] = house_data.datetime.dt.day_of_week\n",
    "house_data[\"hour\"] = house_data.datetime.dt.hour\n",
    "house_data[\"trend\"] = house_data.datetime.dt.day_of_year\n"
   ]
  },
  {
   "cell_type": "markdown",
   "metadata": {},
   "source": [
    "Drop relative humidity because it has too many missing values"
   ]
  },
  {
   "cell_type": "code",
   "execution_count": 62,
   "metadata": {},
   "outputs": [],
   "source": [
    "X = house_data[\n",
    "    [\n",
    "        \"month\",\n",
    "        \"day_of_week\",\n",
    "        \"hour\",\n",
    "        \"trend\",\n",
    "        \"noaa_solarad\",\n",
    "        \"noaa_t_hr_avg\",\n",
    "        \"sense_total_usage\",\n",
    "        \"nest_avg_temp\",\n",
    "        \"nest_avg_humidity\",\n",
    "    ]\n",
    "]\n",
    "\n"
   ]
  },
  {
   "cell_type": "code",
   "execution_count": 63,
   "metadata": {},
   "outputs": [],
   "source": [
    "X = (\n",
    "    pd.get_dummies(X, columns=[\"month\", \"day_of_week\", \"hour\"])\n",
    "    .rename(columns=lambda x: x.lower())\n",
    "    .dropna()\n",
    ")\n",
    "\n"
   ]
  },
  {
   "cell_type": "markdown",
   "metadata": {},
   "source": [
    "### Fit regression model"
   ]
  },
  {
   "cell_type": "code",
   "execution_count": 64,
   "metadata": {},
   "outputs": [],
   "source": [
    "import statsmodels.api as sm\n"
   ]
  },
  {
   "cell_type": "code",
   "execution_count": 67,
   "metadata": {},
   "outputs": [],
   "source": [
    "y = X.nest_avg_temp\n",
    "X = sm.add_constant(X.drop(columns=[\"nest_avg_temp\"]))\n",
    "\n"
   ]
  },
  {
   "cell_type": "code",
   "execution_count": 68,
   "metadata": {},
   "outputs": [
    {
     "data": {
      "text/html": [
       "<table class=\"simpletable\">\n",
       "<caption>OLS Regression Results</caption>\n",
       "<tr>\n",
       "  <th>Dep. Variable:</th>      <td>nest_avg_temp</td>  <th>  R-squared:         </th> <td>   0.688</td> \n",
       "</tr>\n",
       "<tr>\n",
       "  <th>Model:</th>                   <td>OLS</td>       <th>  Adj. R-squared:    </th> <td>   0.685</td> \n",
       "</tr>\n",
       "<tr>\n",
       "  <th>Method:</th>             <td>Least Squares</td>  <th>  F-statistic:       </th> <td>   202.5</td> \n",
       "</tr>\n",
       "<tr>\n",
       "  <th>Date:</th>             <td>Sun, 18 Sep 2022</td> <th>  Prob (F-statistic):</th>  <td>  0.00</td>  \n",
       "</tr>\n",
       "<tr>\n",
       "  <th>Time:</th>                 <td>10:04:40</td>     <th>  Log-Likelihood:    </th> <td> -6145.1</td> \n",
       "</tr>\n",
       "<tr>\n",
       "  <th>No. Observations:</th>      <td>  3530</td>      <th>  AIC:               </th> <td>1.237e+04</td>\n",
       "</tr>\n",
       "<tr>\n",
       "  <th>Df Residuals:</th>          <td>  3491</td>      <th>  BIC:               </th> <td>1.261e+04</td>\n",
       "</tr>\n",
       "<tr>\n",
       "  <th>Df Model:</th>              <td>    38</td>      <th>                     </th>     <td> </td>    \n",
       "</tr>\n",
       "<tr>\n",
       "  <th>Covariance Type:</th>      <td>nonrobust</td>    <th>                     </th>     <td> </td>    \n",
       "</tr>\n",
       "</table>\n",
       "<table class=\"simpletable\">\n",
       "<tr>\n",
       "          <td></td>             <th>coef</th>     <th>std err</th>      <th>t</th>      <th>P>|t|</th>  <th>[0.025</th>    <th>0.975]</th>  \n",
       "</tr>\n",
       "<tr>\n",
       "  <th>const</th>             <td>   10.6563</td> <td>    0.255</td> <td>   41.768</td> <td> 0.000</td> <td>   10.156</td> <td>   11.156</td>\n",
       "</tr>\n",
       "<tr>\n",
       "  <th>trend</th>             <td>    0.0311</td> <td>    0.003</td> <td>   10.928</td> <td> 0.000</td> <td>    0.026</td> <td>    0.037</td>\n",
       "</tr>\n",
       "<tr>\n",
       "  <th>noaa_solarad</th>      <td>   -0.0003</td> <td>    0.000</td> <td>   -2.036</td> <td> 0.042</td> <td>   -0.001</td> <td> -1.3e-05</td>\n",
       "</tr>\n",
       "<tr>\n",
       "  <th>noaa_t_hr_avg</th>     <td>    0.0855</td> <td>    0.005</td> <td>   17.118</td> <td> 0.000</td> <td>    0.076</td> <td>    0.095</td>\n",
       "</tr>\n",
       "<tr>\n",
       "  <th>sense_total_usage</th> <td>    0.0752</td> <td>    0.061</td> <td>    1.234</td> <td> 0.217</td> <td>   -0.044</td> <td>    0.195</td>\n",
       "</tr>\n",
       "<tr>\n",
       "  <th>nest_avg_humidity</th> <td>    0.0604</td> <td>    0.006</td> <td>   10.523</td> <td> 0.000</td> <td>    0.049</td> <td>    0.072</td>\n",
       "</tr>\n",
       "<tr>\n",
       "  <th>month_april</th>       <td>    0.9886</td> <td>    0.067</td> <td>   14.864</td> <td> 0.000</td> <td>    0.858</td> <td>    1.119</td>\n",
       "</tr>\n",
       "<tr>\n",
       "  <th>month_february</th>    <td>    4.5446</td> <td>    0.136</td> <td>   33.526</td> <td> 0.000</td> <td>    4.279</td> <td>    4.810</td>\n",
       "</tr>\n",
       "<tr>\n",
       "  <th>month_june</th>        <td>    1.3679</td> <td>    0.216</td> <td>    6.323</td> <td> 0.000</td> <td>    0.944</td> <td>    1.792</td>\n",
       "</tr>\n",
       "<tr>\n",
       "  <th>month_march</th>       <td>    2.6730</td> <td>    0.076</td> <td>   35.153</td> <td> 0.000</td> <td>    2.524</td> <td>    2.822</td>\n",
       "</tr>\n",
       "<tr>\n",
       "  <th>month_may</th>         <td>    1.0822</td> <td>    0.133</td> <td>    8.115</td> <td> 0.000</td> <td>    0.821</td> <td>    1.344</td>\n",
       "</tr>\n",
       "<tr>\n",
       "  <th>day_of_week_0</th>     <td>    1.4581</td> <td>    0.070</td> <td>   20.917</td> <td> 0.000</td> <td>    1.321</td> <td>    1.595</td>\n",
       "</tr>\n",
       "<tr>\n",
       "  <th>day_of_week_1</th>     <td>    1.6990</td> <td>    0.067</td> <td>   25.284</td> <td> 0.000</td> <td>    1.567</td> <td>    1.831</td>\n",
       "</tr>\n",
       "<tr>\n",
       "  <th>day_of_week_2</th>     <td>    1.6193</td> <td>    0.067</td> <td>   24.298</td> <td> 0.000</td> <td>    1.489</td> <td>    1.750</td>\n",
       "</tr>\n",
       "<tr>\n",
       "  <th>day_of_week_3</th>     <td>    1.4724</td> <td>    0.068</td> <td>   21.562</td> <td> 0.000</td> <td>    1.339</td> <td>    1.606</td>\n",
       "</tr>\n",
       "<tr>\n",
       "  <th>day_of_week_4</th>     <td>    1.5053</td> <td>    0.067</td> <td>   22.444</td> <td> 0.000</td> <td>    1.374</td> <td>    1.637</td>\n",
       "</tr>\n",
       "<tr>\n",
       "  <th>day_of_week_5</th>     <td>    1.5438</td> <td>    0.069</td> <td>   22.443</td> <td> 0.000</td> <td>    1.409</td> <td>    1.679</td>\n",
       "</tr>\n",
       "<tr>\n",
       "  <th>day_of_week_6</th>     <td>    1.3584</td> <td>    0.069</td> <td>   19.734</td> <td> 0.000</td> <td>    1.223</td> <td>    1.493</td>\n",
       "</tr>\n",
       "<tr>\n",
       "  <th>hour_0</th>            <td>    1.4598</td> <td>    0.116</td> <td>   12.547</td> <td> 0.000</td> <td>    1.232</td> <td>    1.688</td>\n",
       "</tr>\n",
       "<tr>\n",
       "  <th>hour_1</th>            <td>    1.5477</td> <td>    0.119</td> <td>   13.033</td> <td> 0.000</td> <td>    1.315</td> <td>    1.780</td>\n",
       "</tr>\n",
       "<tr>\n",
       "  <th>hour_2</th>            <td>    1.5482</td> <td>    0.120</td> <td>   12.898</td> <td> 0.000</td> <td>    1.313</td> <td>    1.784</td>\n",
       "</tr>\n",
       "<tr>\n",
       "  <th>hour_3</th>            <td>    1.5132</td> <td>    0.119</td> <td>   12.691</td> <td> 0.000</td> <td>    1.279</td> <td>    1.747</td>\n",
       "</tr>\n",
       "<tr>\n",
       "  <th>hour_4</th>            <td>    1.3853</td> <td>    0.119</td> <td>   11.638</td> <td> 0.000</td> <td>    1.152</td> <td>    1.619</td>\n",
       "</tr>\n",
       "<tr>\n",
       "  <th>hour_5</th>            <td>    0.8993</td> <td>    0.119</td> <td>    7.585</td> <td> 0.000</td> <td>    0.667</td> <td>    1.132</td>\n",
       "</tr>\n",
       "<tr>\n",
       "  <th>hour_6</th>            <td>    0.4198</td> <td>    0.119</td> <td>    3.526</td> <td> 0.000</td> <td>    0.186</td> <td>    0.653</td>\n",
       "</tr>\n",
       "<tr>\n",
       "  <th>hour_7</th>            <td>    0.0057</td> <td>    0.115</td> <td>    0.049</td> <td> 0.961</td> <td>   -0.221</td> <td>    0.232</td>\n",
       "</tr>\n",
       "<tr>\n",
       "  <th>hour_8</th>            <td>   -0.3598</td> <td>    0.114</td> <td>   -3.161</td> <td> 0.002</td> <td>   -0.583</td> <td>   -0.137</td>\n",
       "</tr>\n",
       "<tr>\n",
       "  <th>hour_9</th>            <td>   -0.6928</td> <td>    0.115</td> <td>   -6.025</td> <td> 0.000</td> <td>   -0.918</td> <td>   -0.467</td>\n",
       "</tr>\n",
       "<tr>\n",
       "  <th>hour_10</th>           <td>   -0.9926</td> <td>    0.119</td> <td>   -8.373</td> <td> 0.000</td> <td>   -1.225</td> <td>   -0.760</td>\n",
       "</tr>\n",
       "<tr>\n",
       "  <th>hour_11</th>           <td>   -1.1823</td> <td>    0.122</td> <td>   -9.654</td> <td> 0.000</td> <td>   -1.422</td> <td>   -0.942</td>\n",
       "</tr>\n",
       "<tr>\n",
       "  <th>hour_12</th>           <td>   -0.7622</td> <td>    0.126</td> <td>   -6.067</td> <td> 0.000</td> <td>   -1.009</td> <td>   -0.516</td>\n",
       "</tr>\n",
       "<tr>\n",
       "  <th>hour_13</th>           <td>   -0.1865</td> <td>    0.126</td> <td>   -1.478</td> <td> 0.139</td> <td>   -0.434</td> <td>    0.061</td>\n",
       "</tr>\n",
       "<tr>\n",
       "  <th>hour_14</th>           <td>    0.1780</td> <td>    0.126</td> <td>    1.407</td> <td> 0.159</td> <td>   -0.070</td> <td>    0.426</td>\n",
       "</tr>\n",
       "<tr>\n",
       "  <th>hour_15</th>           <td>    0.3224</td> <td>    0.122</td> <td>    2.647</td> <td> 0.008</td> <td>    0.084</td> <td>    0.561</td>\n",
       "</tr>\n",
       "<tr>\n",
       "  <th>hour_16</th>           <td>    0.4167</td> <td>    0.117</td> <td>    3.567</td> <td> 0.000</td> <td>    0.188</td> <td>    0.646</td>\n",
       "</tr>\n",
       "<tr>\n",
       "  <th>hour_17</th>           <td>    0.4297</td> <td>    0.114</td> <td>    3.770</td> <td> 0.000</td> <td>    0.206</td> <td>    0.653</td>\n",
       "</tr>\n",
       "<tr>\n",
       "  <th>hour_18</th>           <td>    0.4068</td> <td>    0.114</td> <td>    3.567</td> <td> 0.000</td> <td>    0.183</td> <td>    0.630</td>\n",
       "</tr>\n",
       "<tr>\n",
       "  <th>hour_19</th>           <td>    0.4983</td> <td>    0.116</td> <td>    4.296</td> <td> 0.000</td> <td>    0.271</td> <td>    0.726</td>\n",
       "</tr>\n",
       "<tr>\n",
       "  <th>hour_20</th>           <td>    0.6674</td> <td>    0.117</td> <td>    5.710</td> <td> 0.000</td> <td>    0.438</td> <td>    0.897</td>\n",
       "</tr>\n",
       "<tr>\n",
       "  <th>hour_21</th>           <td>    0.8775</td> <td>    0.116</td> <td>    7.558</td> <td> 0.000</td> <td>    0.650</td> <td>    1.105</td>\n",
       "</tr>\n",
       "<tr>\n",
       "  <th>hour_22</th>           <td>    1.0305</td> <td>    0.116</td> <td>    8.902</td> <td> 0.000</td> <td>    0.804</td> <td>    1.257</td>\n",
       "</tr>\n",
       "<tr>\n",
       "  <th>hour_23</th>           <td>    1.2262</td> <td>    0.117</td> <td>   10.489</td> <td> 0.000</td> <td>    0.997</td> <td>    1.455</td>\n",
       "</tr>\n",
       "</table>\n",
       "<table class=\"simpletable\">\n",
       "<tr>\n",
       "  <th>Omnibus:</th>       <td>33.125</td> <th>  Durbin-Watson:     </th> <td>   0.112</td>\n",
       "</tr>\n",
       "<tr>\n",
       "  <th>Prob(Omnibus):</th> <td> 0.000</td> <th>  Jarque-Bera (JB):  </th> <td>  52.188</td>\n",
       "</tr>\n",
       "<tr>\n",
       "  <th>Skew:</th>          <td> 0.043</td> <th>  Prob(JB):          </th> <td>4.65e-12</td>\n",
       "</tr>\n",
       "<tr>\n",
       "  <th>Kurtosis:</th>      <td> 3.589</td> <th>  Cond. No.          </th> <td>1.18e+18</td>\n",
       "</tr>\n",
       "</table><br/><br/>Notes:<br/>[1] Standard Errors assume that the covariance matrix of the errors is correctly specified.<br/>[2] The smallest eigenvalue is 2.41e-28. This might indicate that there are<br/>strong multicollinearity problems or that the design matrix is singular."
      ],
      "text/plain": [
       "<class 'statsmodels.iolib.summary.Summary'>\n",
       "\"\"\"\n",
       "                            OLS Regression Results                            \n",
       "==============================================================================\n",
       "Dep. Variable:          nest_avg_temp   R-squared:                       0.688\n",
       "Model:                            OLS   Adj. R-squared:                  0.685\n",
       "Method:                 Least Squares   F-statistic:                     202.5\n",
       "Date:                Sun, 18 Sep 2022   Prob (F-statistic):               0.00\n",
       "Time:                        10:04:40   Log-Likelihood:                -6145.1\n",
       "No. Observations:                3530   AIC:                         1.237e+04\n",
       "Df Residuals:                    3491   BIC:                         1.261e+04\n",
       "Df Model:                          38                                         \n",
       "Covariance Type:            nonrobust                                         \n",
       "=====================================================================================\n",
       "                        coef    std err          t      P>|t|      [0.025      0.975]\n",
       "-------------------------------------------------------------------------------------\n",
       "const                10.6563      0.255     41.768      0.000      10.156      11.156\n",
       "trend                 0.0311      0.003     10.928      0.000       0.026       0.037\n",
       "noaa_solarad         -0.0003      0.000     -2.036      0.042      -0.001    -1.3e-05\n",
       "noaa_t_hr_avg         0.0855      0.005     17.118      0.000       0.076       0.095\n",
       "sense_total_usage     0.0752      0.061      1.234      0.217      -0.044       0.195\n",
       "nest_avg_humidity     0.0604      0.006     10.523      0.000       0.049       0.072\n",
       "month_april           0.9886      0.067     14.864      0.000       0.858       1.119\n",
       "month_february        4.5446      0.136     33.526      0.000       4.279       4.810\n",
       "month_june            1.3679      0.216      6.323      0.000       0.944       1.792\n",
       "month_march           2.6730      0.076     35.153      0.000       2.524       2.822\n",
       "month_may             1.0822      0.133      8.115      0.000       0.821       1.344\n",
       "day_of_week_0         1.4581      0.070     20.917      0.000       1.321       1.595\n",
       "day_of_week_1         1.6990      0.067     25.284      0.000       1.567       1.831\n",
       "day_of_week_2         1.6193      0.067     24.298      0.000       1.489       1.750\n",
       "day_of_week_3         1.4724      0.068     21.562      0.000       1.339       1.606\n",
       "day_of_week_4         1.5053      0.067     22.444      0.000       1.374       1.637\n",
       "day_of_week_5         1.5438      0.069     22.443      0.000       1.409       1.679\n",
       "day_of_week_6         1.3584      0.069     19.734      0.000       1.223       1.493\n",
       "hour_0                1.4598      0.116     12.547      0.000       1.232       1.688\n",
       "hour_1                1.5477      0.119     13.033      0.000       1.315       1.780\n",
       "hour_2                1.5482      0.120     12.898      0.000       1.313       1.784\n",
       "hour_3                1.5132      0.119     12.691      0.000       1.279       1.747\n",
       "hour_4                1.3853      0.119     11.638      0.000       1.152       1.619\n",
       "hour_5                0.8993      0.119      7.585      0.000       0.667       1.132\n",
       "hour_6                0.4198      0.119      3.526      0.000       0.186       0.653\n",
       "hour_7                0.0057      0.115      0.049      0.961      -0.221       0.232\n",
       "hour_8               -0.3598      0.114     -3.161      0.002      -0.583      -0.137\n",
       "hour_9               -0.6928      0.115     -6.025      0.000      -0.918      -0.467\n",
       "hour_10              -0.9926      0.119     -8.373      0.000      -1.225      -0.760\n",
       "hour_11              -1.1823      0.122     -9.654      0.000      -1.422      -0.942\n",
       "hour_12              -0.7622      0.126     -6.067      0.000      -1.009      -0.516\n",
       "hour_13              -0.1865      0.126     -1.478      0.139      -0.434       0.061\n",
       "hour_14               0.1780      0.126      1.407      0.159      -0.070       0.426\n",
       "hour_15               0.3224      0.122      2.647      0.008       0.084       0.561\n",
       "hour_16               0.4167      0.117      3.567      0.000       0.188       0.646\n",
       "hour_17               0.4297      0.114      3.770      0.000       0.206       0.653\n",
       "hour_18               0.4068      0.114      3.567      0.000       0.183       0.630\n",
       "hour_19               0.4983      0.116      4.296      0.000       0.271       0.726\n",
       "hour_20               0.6674      0.117      5.710      0.000       0.438       0.897\n",
       "hour_21               0.8775      0.116      7.558      0.000       0.650       1.105\n",
       "hour_22               1.0305      0.116      8.902      0.000       0.804       1.257\n",
       "hour_23               1.2262      0.117     10.489      0.000       0.997       1.455\n",
       "==============================================================================\n",
       "Omnibus:                       33.125   Durbin-Watson:                   0.112\n",
       "Prob(Omnibus):                  0.000   Jarque-Bera (JB):               52.188\n",
       "Skew:                           0.043   Prob(JB):                     4.65e-12\n",
       "Kurtosis:                       3.589   Cond. No.                     1.18e+18\n",
       "==============================================================================\n",
       "\n",
       "Notes:\n",
       "[1] Standard Errors assume that the covariance matrix of the errors is correctly specified.\n",
       "[2] The smallest eigenvalue is 2.41e-28. This might indicate that there are\n",
       "strong multicollinearity problems or that the design matrix is singular.\n",
       "\"\"\""
      ]
     },
     "execution_count": 68,
     "metadata": {},
     "output_type": "execute_result"
    }
   ],
   "source": [
    "lm = sm.OLS(y, X).fit()\n",
    "lm.summary()\n"
   ]
  }
 ],
 "metadata": {
  "kernelspec": {
   "display_name": "Python 3.9.12 ('envDS')",
   "language": "python",
   "name": "python3"
  },
  "language_info": {
   "codemirror_mode": {
    "name": "ipython",
    "version": 3
   },
   "file_extension": ".py",
   "mimetype": "text/x-python",
   "name": "python",
   "nbconvert_exporter": "python",
   "pygments_lexer": "ipython3",
   "version": "3.9.12"
  },
  "orig_nbformat": 4,
  "vscode": {
   "interpreter": {
    "hash": "6557f6faeb36ff1eb913be5add2f5fd501a06da646a1c91bb6a2a0a1ba68ea1e"
   }
  }
 },
 "nbformat": 4,
 "nbformat_minor": 2
}
