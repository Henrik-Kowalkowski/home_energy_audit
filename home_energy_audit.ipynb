{
 "cells": [
  {
   "cell_type": "markdown",
   "metadata": {},
   "source": [
    "# Home Energy Audit"
   ]
  },
  {
   "cell_type": "markdown",
   "metadata": {},
   "source": [
    "### Technology\n",
    "- [pydrive](https://towardsdatascience.com/how-to-manage-files-in-google-drive-with-python-d26471d91ecd)\n",
    "  - I want to protect the privacy of my electricity and thermostat data besides what I share here so I will access from google drive.\n",
    "  - [How to set up from pydrive doc](https://pythonhosted.org/PyDrive/quickstart.html) and [Setting up the API from Medium post](https://medium.com/@chingjunetao/simple-way-to-access-to-google-service-api-a22f4251bb52), you also need to make sure to enable yourself as a test user, no reason to publish the app.\n",
    "\n",
    "### Data sources\n",
    "- [NOAA weather data](https://www.ncei.noaa.gov/pub/data/uscrn/products/hourly02/) (for the Sandstone, MN weather station)\n",
    "- [Sense electricity data](https://help.sense.com/hc/en-us/articles/360011635634-Web-App-v4)\n",
    "- [Nest air temp/humidity/runtime data](https://takeout.google.com/settings/takeout)\n",
    "  - [More info on confusing nest thermostat headers](https://www.reddit.com/r/Nest/comments/9ui8m4/nest_archive_data_confused/)"
   ]
  },
  {
   "cell_type": "code",
   "execution_count": null,
   "metadata": {},
   "outputs": [],
   "source": [
    "# OS\n",
    "import sys, os, pathlib\n",
    "\n",
    "# Data manipulation\n",
    "import numpy as np\n",
    "import pandas as pd\n",
    "\n",
    "pd.options.mode.chained_assignment = None\n",
    "\n",
    "# String manipulation\n",
    "import re\n",
    "\n",
    "# Plotting\n",
    "import plotnine as p9\n",
    "from plotnine import ggplot, aes, geoms, facets, scales, labels, themes\n",
    "\n",
    "# Local directories\n",
    "home_dir = pathlib.Path(os.path.realpath(\"__file__\")).parents[0]\n"
   ]
  },
  {
   "cell_type": "code",
   "execution_count": null,
   "metadata": {},
   "outputs": [],
   "source": [
    "from helpers.gauth import make_drive_creds\n",
    "from helpers.gdrive import make_drive\n",
    "from helpers.data_prep import get_noaa_data, get_sense_data, get_nest_data\n"
   ]
  },
  {
   "cell_type": "code",
   "execution_count": null,
   "metadata": {},
   "outputs": [],
   "source": [
    "make_drive_creds(home_dir, \"home_energy_audit\")\n"
   ]
  },
  {
   "cell_type": "code",
   "execution_count": null,
   "metadata": {},
   "outputs": [],
   "source": [
    "drive = make_drive(home_dir)\n"
   ]
  },
  {
   "cell_type": "markdown",
   "metadata": {},
   "source": [
    "### Sense energy monitor data"
   ]
  },
  {
   "cell_type": "code",
   "execution_count": null,
   "metadata": {},
   "outputs": [],
   "source": [
    "sense_data = get_sense_data(drive)\n"
   ]
  },
  {
   "cell_type": "code",
   "execution_count": null,
   "metadata": {},
   "outputs": [],
   "source": [
    "display(sense_data.shape, sense_data.dtypes)\n"
   ]
  },
  {
   "cell_type": "markdown",
   "metadata": {},
   "source": [
    "### Nest thermostat data"
   ]
  },
  {
   "cell_type": "code",
   "execution_count": null,
   "metadata": {},
   "outputs": [],
   "source": [
    "nest_sensor_data, nest_cycle_data, nest_event_data = get_nest_data(drive)\n"
   ]
  },
  {
   "cell_type": "code",
   "execution_count": null,
   "metadata": {},
   "outputs": [],
   "source": [
    "display(\"Sensor\", nest_sensor_data.shape, nest_sensor_data.dtypes)\n",
    "display(\"Cycle\", nest_cycle_data.shape, nest_cycle_data.dtypes)\n",
    "display(\"Event\", nest_event_data.shape, nest_event_data.dtypes)\n"
   ]
  },
  {
   "cell_type": "markdown",
   "metadata": {},
   "source": [
    "### NOAA weather data"
   ]
  },
  {
   "cell_type": "code",
   "execution_count": null,
   "metadata": {},
   "outputs": [],
   "source": [
    "noaa_data, noaa_readme = get_noaa_data(drive)\n"
   ]
  },
  {
   "cell_type": "code",
   "execution_count": null,
   "metadata": {},
   "outputs": [],
   "source": [
    "display(noaa_data.shape, noaa_data.dtypes)\n"
   ]
  },
  {
   "cell_type": "code",
   "execution_count": null,
   "metadata": {},
   "outputs": [],
   "source": [
    "print(\n",
    "    \"\\n\".join(noaa_readme.split(\"\\n\")[:31]),\n",
    "    \"\\nFile truncated by Henrik for readability...\",\n",
    ")\n"
   ]
  },
  {
   "cell_type": "markdown",
   "metadata": {},
   "source": [
    "### Join data for analysis"
   ]
  },
  {
   "cell_type": "code",
   "execution_count": null,
   "metadata": {},
   "outputs": [],
   "source": [
    "subset_sense_data = sense_data[\n",
    "    [\"sense_datetime\", \"sense_name\", \"sense_avg_wattage\", \"sense_kwh\"]\n",
    "]\n",
    "subset_sense_data[\"sense_name\"] = subset_sense_data.sense_name.str.lower().str.replace(\n",
    "    \" \", \"_\"\n",
    ")\n",
    "subset_sense_data[\"sense_name\"] = subset_sense_data.sense_name.apply(lambda x: f\"sense_{x}\")\n",
    "subset_sense_data.loc[subset_sense_data.sense_name.isna(), \"sense_name\"] = \"sense_unknown\"\n",
    "subset_sense_data[\"datetime\"] = subset_sense_data.sense_datetime\n"
   ]
  },
  {
   "cell_type": "code",
   "execution_count": null,
   "metadata": {},
   "outputs": [],
   "source": [
    "pivoted_sense_data = pd.pivot(\n",
    "    subset_sense_data.drop(columns=[\"sense_datetime\"]),\n",
    "    index=\"datetime\",\n",
    "    columns=\"sense_name\",\n",
    "    values=\"sense_kwh\",\n",
    ")\n",
    "\n"
   ]
  },
  {
   "cell_type": "code",
   "execution_count": null,
   "metadata": {},
   "outputs": [],
   "source": [
    "nest_sensor_data[\"datetime\"] = pd.to_datetime(\n",
    "    nest_sensor_data.nest_date + \" \" + nest_sensor_data.nest_time,\n",
    "    infer_datetime_format=True,\n",
    ")\n",
    "\n"
   ]
  },
  {
   "cell_type": "code",
   "execution_count": null,
   "metadata": {},
   "outputs": [],
   "source": [
    "nest_sensor_data_hourly = (\n",
    "    nest_sensor_data.set_index(\"datetime\")\n",
    "    .resample(\"H\")[\"nest_avg_temp\", \"nest_avg_humidity\"]\n",
    "    .mean()\n",
    "    .reset_index()\n",
    ")\n",
    "\n"
   ]
  },
  {
   "cell_type": "code",
   "execution_count": null,
   "metadata": {},
   "outputs": [],
   "source": [
    "a = nest_cycle_data.copy()"
   ]
  },
  {
   "cell_type": "code",
   "execution_count": null,
   "metadata": {},
   "outputs": [],
   "source": [
    "a.index = pd.IntervalIndex.from_arrays(nest_cycle_data.nest_start_ts, nest_cycle_data.nest_end_ts, closed=\"both\")"
   ]
  },
  {
   "cell_type": "code",
   "execution_count": null,
   "metadata": {},
   "outputs": [],
   "source": [
    "nest_cycle_data.nest_end_ts[0]"
   ]
  },
  {
   "cell_type": "code",
   "execution_count": null,
   "metadata": {},
   "outputs": [],
   "source": [
    "nest_cycle_data.iloc[0, :].t"
   ]
  },
  {
   "cell_type": "code",
   "execution_count": null,
   "metadata": {},
   "outputs": [],
   "source": [
    "nest_cycle_data.iloc[0].to_list()"
   ]
  },
  {
   "cell_type": "code",
   "execution_count": null,
   "metadata": {},
   "outputs": [],
   "source": [
    "\n",
    "def build_range(row, columns):\n",
    "    index = pd.date_range(row[\"nest_start_ts\"], row[\"nest_end_ts\"], freq=\"15 min\")\n",
    "    df = pd.DataFrame([row.to_list() for i in range(index.size)], columns=columns)\n",
    "    df.index=index\n",
    "    return df\n",
    "\n"
   ]
  },
  {
   "cell_type": "code",
   "execution_count": null,
   "metadata": {},
   "outputs": [],
   "source": [
    "frames = []\n",
    "for _, row in nest_cycle_data.iterrows():\n",
    "    frames.append(build_range(row, columns=nest_cycle_data.columns))\n",
    "nest_cycle_data_15_min = pd.concat(frames)"
   ]
  },
  {
   "cell_type": "code",
   "execution_count": null,
   "metadata": {},
   "outputs": [],
   "source": [
    "a = nest_cycle_data_15_min.resample(\"H\").first()"
   ]
  },
  {
   "cell_type": "code",
   "execution_count": null,
   "metadata": {},
   "outputs": [],
   "source": [
    "def convert_to_date_time(date, time):\n",
    "    \"\"\"Convert NOAA provided date and time integers to a datetime string.\n",
    "\n",
    "    Args:\n",
    "        date (str): A date of the form yearmonthday e.g. 20220202.\n",
    "        time (str): A time of the form hourminute e.g. 2300.\n",
    "\n",
    "    Returns:\n",
    "        _type_: _description_\n",
    "    \"\"\"\n",
    "    date = f\"{date[:4]}-{date[4:6]}-{date[6:]}\"\n",
    "    time = f\"{time[:2]}:{time[2:]}:00\"\n",
    "    return f\"{date} {time}\"\n"
   ]
  },
  {
   "cell_type": "code",
   "execution_count": null,
   "metadata": {},
   "outputs": [],
   "source": [
    "noaa_data.insert(\n",
    "    0,\n",
    "    \"datetime\",\n",
    "    pd.to_datetime(\n",
    "        noaa_data.apply(\n",
    "            lambda x: convert_to_date_time(x[\"noaa_lst_date\"], x[\"noaa_lst_time\"]),\n",
    "            axis=1,\n",
    "        ),\n",
    "        infer_datetime_format=True,\n",
    "    ),\n",
    ")\n",
    "\n"
   ]
  },
  {
   "cell_type": "code",
   "execution_count": null,
   "metadata": {},
   "outputs": [],
   "source": [
    "noaa_data_subset = noaa_data[\n",
    "    [\"datetime\", \"noaa_t_hr_avg\", \"noaa_rh_hr_avg\", \"noaa_solarad\"]\n",
    "]\n"
   ]
  },
  {
   "cell_type": "code",
   "execution_count": null,
   "metadata": {},
   "outputs": [],
   "source": [
    "noaa_data_subset = noaa_data_subset[\n",
    "    (noaa_data_subset.datetime >= \"2022-02-1\")\n",
    "    & (noaa_data_subset.datetime < \"2022-07-01\")\n",
    "]\n",
    "\n"
   ]
  },
  {
   "cell_type": "code",
   "execution_count": null,
   "metadata": {},
   "outputs": [],
   "source": [
    "house_data = noaa_data_subset.merge(\n",
    "    pivoted_sense_data, how=\"left\", on=\"datetime\"\n",
    ").merge(nest_data_hourly, how=\"left\", on=\"datetime\")\n",
    "\n"
   ]
  },
  {
   "cell_type": "markdown",
   "metadata": {},
   "source": [
    "### Explore example data point"
   ]
  },
  {
   "cell_type": "code",
   "execution_count": null,
   "metadata": {},
   "outputs": [],
   "source": [
    "daily_fridge_kwh = (\n",
    "    house_data.set_index(\"datetime\").resample(\"D\").sense_fridge.mean().reset_index()\n",
    ")\n"
   ]
  },
  {
   "cell_type": "code",
   "execution_count": null,
   "metadata": {},
   "outputs": [],
   "source": [
    "p9.options.figure_size = (5, 3)\n",
    "p9.options.dpi = 200\n",
    "ggplot(\n",
    "    daily_fridge_kwh, aes(x=\"datetime\", y=\"sense_fridge\")\n",
    ") + geoms.geom_point() + geoms.geom_smooth(method=\"lm\", color=\"blue\") + themes.theme(\n",
    "    axis_text_x=themes.element_text(rotation=45, hjust=1)\n",
    ") + labels.ggtitle(\n",
    "    \"Fridge KWH usage over time\"\n",
    ") + labels.ylab(\n",
    "    \"Fridge Daily KWH\"\n",
    ") + labels.xlab(\n",
    "    \"Day\"\n",
    ")\n"
   ]
  },
  {
   "cell_type": "markdown",
   "metadata": {},
   "source": [
    "### Data quality EDA"
   ]
  },
  {
   "cell_type": "code",
   "execution_count": null,
   "metadata": {},
   "outputs": [],
   "source": [
    "house_data = house_data.replace(-9999, np.nan).replace(-99999, np.nan)\n",
    "house_data.isna().sum()\n"
   ]
  },
  {
   "cell_type": "code",
   "execution_count": null,
   "metadata": {},
   "outputs": [],
   "source": [
    "house_data[\n",
    "    [\"noaa_solarad\", \"noaa_t_hr_avg\", \"noaa_rh_hr_avg\", \"sense_total_usage\", \"nest_avg_temp\", \"nest_avg_humidity\"]\n",
    "].describe()\n",
    "\n"
   ]
  },
  {
   "cell_type": "markdown",
   "metadata": {},
   "source": [
    "### Prepare data for modeling"
   ]
  },
  {
   "cell_type": "code",
   "execution_count": null,
   "metadata": {},
   "outputs": [],
   "source": [
    "house_data[\"month\"] = house_data.datetime.dt.month_name()\n",
    "house_data[\"day_of_week\"] = house_data.datetime.dt.day_of_week\n",
    "house_data[\"hour\"] = house_data.datetime.dt.hour\n",
    "house_data[\"trend\"] = house_data.datetime.dt.day_of_year\n"
   ]
  },
  {
   "cell_type": "markdown",
   "metadata": {},
   "source": [
    "Drop relative humidity because it has too many missing values"
   ]
  },
  {
   "cell_type": "code",
   "execution_count": null,
   "metadata": {},
   "outputs": [],
   "source": [
    "X = house_data[\n",
    "    [\n",
    "        \"month\",\n",
    "        \"day_of_week\",\n",
    "        \"hour\",\n",
    "        \"trend\",\n",
    "        \"noaa_solarad\",\n",
    "        \"noaa_t_hr_avg\",\n",
    "        \"sense_total_usage\",\n",
    "        \"nest_avg_temp\",\n",
    "        \"nest_avg_humidity\",\n",
    "    ]\n",
    "]\n",
    "\n"
   ]
  },
  {
   "cell_type": "code",
   "execution_count": null,
   "metadata": {},
   "outputs": [],
   "source": [
    "X = (\n",
    "    pd.get_dummies(X, columns=[\"month\", \"day_of_week\", \"hour\"])\n",
    "    .rename(columns=lambda x: x.lower())\n",
    "    .dropna()\n",
    ")\n",
    "\n"
   ]
  },
  {
   "cell_type": "markdown",
   "metadata": {},
   "source": [
    "### Fit regression model"
   ]
  },
  {
   "cell_type": "code",
   "execution_count": null,
   "metadata": {},
   "outputs": [],
   "source": [
    "import statsmodels.api as sm\n"
   ]
  },
  {
   "cell_type": "code",
   "execution_count": null,
   "metadata": {},
   "outputs": [],
   "source": [
    "y = X.nest_avg_temp\n",
    "X = sm.add_constant(X.drop(columns=[\"nest_avg_temp\"]))\n",
    "\n"
   ]
  },
  {
   "cell_type": "code",
   "execution_count": null,
   "metadata": {},
   "outputs": [],
   "source": [
    "lm = sm.OLS(y, X).fit()\n",
    "lm.summary()\n"
   ]
  }
 ],
 "metadata": {
  "kernelspec": {
   "display_name": "Python 3.9.12 ('envDS')",
   "language": "python",
   "name": "python3"
  },
  "language_info": {
   "codemirror_mode": {
    "name": "ipython",
    "version": 3
   },
   "file_extension": ".py",
   "mimetype": "text/x-python",
   "name": "python",
   "nbconvert_exporter": "python",
   "pygments_lexer": "ipython3",
   "version": "3.9.12"
  },
  "orig_nbformat": 4,
  "vscode": {
   "interpreter": {
    "hash": "6557f6faeb36ff1eb913be5add2f5fd501a06da646a1c91bb6a2a0a1ba68ea1e"
   }
  }
 },
 "nbformat": 4,
 "nbformat_minor": 2
}
